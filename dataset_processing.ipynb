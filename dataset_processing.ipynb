{
 "cells": [
  {
   "cell_type": "code",
   "execution_count": 1,
   "id": "e5c30ad3-dbf0-49a5-a1ba-48c833b50eb1",
   "metadata": {},
   "outputs": [],
   "source": [
    "from common import *\n",
    "from config import *\n",
    "from IPython.display import display\n",
    "import numpy as np\n",
    "import pandas as pd\n",
    "\n",
    "nypd_data = LOAD_DATASET()"
   ]
  },
  {
   "cell_type": "markdown",
   "id": "9381f4f5-5db4-46dd-8f97-f8a165058197",
   "metadata": {},
   "source": [
    "# Cleaning data"
   ]
  },
  {
   "cell_type": "markdown",
   "id": "501e9ab9-fae4-41cf-b473-ad424770aeae",
   "metadata": {},
   "source": [
    "### Options of populating CMPLNT_FR_DT\n",
    "1. We just take datetime from CMPLT_TO_DT if difference in hours is not bigger than some threeshold\n",
    "    - but what if fr_tm and to_tm are the same? Do we really can populate with same date? \n",
    "2. Other option we can just populate it with report date "
   ]
  },
  {
   "cell_type": "markdown",
   "id": "6bfd928a-fcde-46c9-a9fd-5de58a12a551",
   "metadata": {},
   "source": [
    "len(nypd_data[nypd_data['RPT_DT'].isna()]) # 0\n",
    "\n",
    "len(nypd_data[nypd_data['RPT_DT'] == STR_NULL]) # 0\n",
    "\n",
    "rpt date is always non null"
   ]
  },
  {
   "cell_type": "code",
   "execution_count": 295,
   "id": "f6331f8d-5d1d-42e1-8f13-d6ae7ad1604b",
   "metadata": {},
   "outputs": [],
   "source": [
    "# First option\n",
    "mask = nypd_data['CMPLNT_FR_DT'].isna() & nypd_data['CMPLNT_TO_DT'].notnull()\n",
    "\n",
    "def fill_cmplnt_fr_dt(row, threshold_hours):\n",
    "    if is_time_difference_within_threshold(row['CMPLNT_FR_TM'], row['CMPLNT_TO_TM'], threshold_hours):\n",
    "        return row['CMPLNT_TO_DT']\n",
    "    return row['CMPLNT_FR_DT']\n",
    "\n",
    "nypd_data.loc[mask, 'CMPLNT_FR_DT'] = nypd_data[mask].apply(fill_cmplnt_fr_dt, threshold_hours=THRESHOLD_HOURS, axis=1)"
   ]
  },
  {
   "cell_type": "code",
   "execution_count": 19,
   "id": "043faaef-e7ea-4ee7-9b58-cf3bec2b9435",
   "metadata": {},
   "outputs": [],
   "source": [
    "# Second option\n",
    "mask = nypd_data['CMPLNT_FR_DT'].isna()\n",
    "nypd_data.loc[mask, 'CMPLNT_FR_DT'] = nypd_data['RPT_DT']"
   ]
  },
  {
   "cell_type": "code",
   "execution_count": 301,
   "id": "531e0e0c-d9c8-4144-9c28-dff2cb0a94c0",
   "metadata": {},
   "outputs": [
    {
     "data": {
      "text/plain": [
       "0"
      ]
     },
     "execution_count": 301,
     "metadata": {},
     "output_type": "execute_result"
    }
   ],
   "source": [
    "len(nypd_data[nypd_data['CMPLNT_FR_DT'].isna()])"
   ]
  },
  {
   "cell_type": "markdown",
   "id": "97d642fb-9fea-4103-bdca-7e544280944a",
   "metadata": {},
   "source": [
    "### Cleaning CMPLNT_FR_TM"
   ]
  },
  {
   "cell_type": "code",
   "execution_count": 297,
   "id": "681f0a75-2981-4318-a570-9d2d2908223d",
   "metadata": {},
   "outputs": [],
   "source": [
    "rows_to_drop = nypd_data[nypd_data['CMPLNT_FR_TM'] == STR_NULL].index\n",
    "\n",
    "nypd_data.drop(rows_to_drop, inplace=True)"
   ]
  },
  {
   "cell_type": "markdown",
   "id": "d673ff38-8c6a-442d-8975-f38c7d90108c",
   "metadata": {},
   "source": [
    "### Cleaning CMPLNT_TO_TM\n",
    "I dont think we really need those rows, maybe only for plotting, but even then i would just drop them"
   ]
  },
  {
   "cell_type": "code",
   "execution_count": 298,
   "id": "ed3f252b-948e-4a31-87db-af3aae82b559",
   "metadata": {},
   "outputs": [],
   "source": [
    "nypd_data.dropna(subset=['CMPLNT_TO_TM'], inplace=True)"
   ]
  },
  {
   "cell_type": "markdown",
   "id": "5bedde00-6db1-4f24-a799-f638496e1b5e",
   "metadata": {},
   "source": [
    "### Filling both to_dt and fr_dt with rpt_dt if they are null"
   ]
  },
  {
   "cell_type": "code",
   "execution_count": 299,
   "id": "ce33a22d-aa01-4f18-9139-0f6fe356acf8",
   "metadata": {},
   "outputs": [],
   "source": [
    "mask = nypd_data['CMPLNT_FR_DT'].isnull() & nypd_data['CMPLNT_TO_DT'].isnull()\n",
    "\n",
    "nypd_data.loc[mask, 'CMPLNT_FR_DT'] = nypd_data.loc[mask, 'RPT_DT']\n",
    "nypd_data.loc[mask, 'CMPLNT_TO_DT'] = nypd_data.loc[mask, 'RPT_DT']"
   ]
  },
  {
   "cell_type": "code",
   "execution_count": 300,
   "id": "954032e8-0438-4530-baee-303e1ca2e1a7",
   "metadata": {},
   "outputs": [
    {
     "data": {
      "text/plain": [
       "0"
      ]
     },
     "execution_count": 300,
     "metadata": {},
     "output_type": "execute_result"
    }
   ],
   "source": [
    "null_to_dt = nypd_data[nypd_data[\"CMPLNT_TO_DT\"].isna()]\n",
    "starting_dt = null_to_dt[null_to_dt['CMPLNT_FR_DT'].isna()]\n",
    "len(starting_dt)"
   ]
  },
  {
   "cell_type": "markdown",
   "id": "ea441cbd-0365-4f0d-97ee-8a3eec1be28f",
   "metadata": {},
   "source": [
    "## Cleaning OFNS_DESC"
   ]
  },
  {
   "cell_type": "markdown",
   "id": "e25a81fe-9c06-40f0-94ec-dd04447d8557",
   "metadata": {},
   "source": [
    "1. First we get all unique codes when OFNS_DESC is null\n",
    "2. We create a map based on those codes and their OFNS_DESC from other rows\n",
    "3. We populate original dataset with those values"
   ]
  },
  {
   "cell_type": "code",
   "execution_count": 302,
   "id": "669693cc-401c-4d93-b80d-a09695134471",
   "metadata": {},
   "outputs": [
    {
     "data": {
      "text/html": [
       "<div>\n",
       "<style scoped>\n",
       "    .dataframe tbody tr th:only-of-type {\n",
       "        vertical-align: middle;\n",
       "    }\n",
       "\n",
       "    .dataframe tbody tr th {\n",
       "        vertical-align: top;\n",
       "    }\n",
       "\n",
       "    .dataframe thead th {\n",
       "        text-align: right;\n",
       "    }\n",
       "</style>\n",
       "<table border=\"1\" class=\"dataframe\">\n",
       "  <thead>\n",
       "    <tr style=\"text-align: right;\">\n",
       "      <th></th>\n",
       "      <th>CMPLNT_NUM</th>\n",
       "      <th>CMPLNT_FR_DT</th>\n",
       "      <th>CMPLNT_FR_TM</th>\n",
       "      <th>CMPLNT_TO_DT</th>\n",
       "      <th>CMPLNT_TO_TM</th>\n",
       "      <th>ADDR_PCT_CD</th>\n",
       "      <th>RPT_DT</th>\n",
       "      <th>KY_CD</th>\n",
       "      <th>OFNS_DESC</th>\n",
       "      <th>PD_CD</th>\n",
       "      <th>...</th>\n",
       "      <th>SUSP_SEX</th>\n",
       "      <th>TRANSIT_DISTRICT</th>\n",
       "      <th>Latitude</th>\n",
       "      <th>Longitude</th>\n",
       "      <th>Lat_Lon</th>\n",
       "      <th>PATROL_BORO</th>\n",
       "      <th>STATION_NAME</th>\n",
       "      <th>VIC_AGE_GROUP</th>\n",
       "      <th>VIC_RACE</th>\n",
       "      <th>VIC_SEX</th>\n",
       "    </tr>\n",
       "  </thead>\n",
       "  <tbody>\n",
       "  </tbody>\n",
       "</table>\n",
       "<p>0 rows × 35 columns</p>\n",
       "</div>"
      ],
      "text/plain": [
       "Empty DataFrame\n",
       "Columns: [CMPLNT_NUM, CMPLNT_FR_DT, CMPLNT_FR_TM, CMPLNT_TO_DT, CMPLNT_TO_TM, ADDR_PCT_CD, RPT_DT, KY_CD, OFNS_DESC, PD_CD, PD_DESC, CRM_ATPT_CPTD_CD, LAW_CAT_CD, BORO_NM, LOC_OF_OCCUR_DESC, PREM_TYP_DESC, JURIS_DESC, JURISDICTION_CODE, PARKS_NM, HADEVELOPT, HOUSING_PSA, X_COORD_CD, Y_COORD_CD, SUSP_AGE_GROUP, SUSP_RACE, SUSP_SEX, TRANSIT_DISTRICT, Latitude, Longitude, Lat_Lon, PATROL_BORO, STATION_NAME, VIC_AGE_GROUP, VIC_RACE, VIC_SEX]\n",
       "Index: []\n",
       "\n",
       "[0 rows x 35 columns]"
      ]
     },
     "execution_count": 302,
     "metadata": {},
     "output_type": "execute_result"
    }
   ],
   "source": [
    "ky_cd_for_null_offns_desc = nypd_data[nypd_data['OFNS_DESC'] == STR_NULL]['KY_CD'].unique()\n",
    "ky_cd_to_ofns_desc = nypd_data[nypd_data['OFNS_DESC'] != STR_NULL].set_index('KY_CD')['OFNS_DESC'].to_dict()\n",
    "nypd_data.loc[nypd_data['OFNS_DESC'] == STR_NULL, 'OFNS_DESC'] = nypd_data['KY_CD'].map(ky_cd_to_ofns_desc)"
   ]
  },
  {
   "cell_type": "markdown",
   "id": "4ea87d77-f2d8-4db6-aad9-16f9dc791eb6",
   "metadata": {},
   "source": [
    "### Cleaning ADDR_PCT_CD \n",
    "Maybe we can get this using some external api based on long and lat if needed\n",
    "currently will just drop them"
   ]
  },
  {
   "cell_type": "code",
   "execution_count": 303,
   "id": "e85ebfc2-57c6-450f-b7cb-51178bce1d33",
   "metadata": {},
   "outputs": [],
   "source": [
    "nypd_data.dropna(subset=['ADDR_PCT_CD'], inplace=True)"
   ]
  },
  {
   "cell_type": "markdown",
   "id": "84b593f2-f213-45c5-8988-7db6ca00e8d3",
   "metadata": {},
   "source": [
    "### Cleaning of PD_CD"
   ]
  },
  {
   "cell_type": "markdown",
   "id": "1b5d80cd-c952-442f-8ec0-cc3dcbbd230e",
   "metadata": {},
   "source": [
    "Clearing PD_CD\n",
    "\n",
    "PD_CD is nan when ky_cd is 101 (ofns_desc is MURDER & NON-NEGL. MANSLAUGHTER\t)\n",
    "\n",
    "My idea is that we create a new pd_cd code and give it the same description as in ofns_desc based on ky_cd (101)"
   ]
  },
  {
   "cell_type": "code",
   "execution_count": 305,
   "id": "fcda9529-fc8b-4f4d-ba62-8ab1a682b737",
   "metadata": {},
   "outputs": [],
   "source": [
    "new_code = 976\n",
    "description = 'MURDER & NON-NEGL. MANSLAUGHTER'\n",
    "nypd_data.loc[nypd_data['PD_CD'].isna(), 'PD_CD'] = new_code\n",
    "mask = nypd_data['PD_DESC'] == STR_NULL\n",
    "nypd_data.loc[mask, 'PD_DESC'] = description"
   ]
  },
  {
   "cell_type": "markdown",
   "id": "e5b30362-b3a8-4c1f-92ba-1ddc75cf0b0e",
   "metadata": {},
   "source": [
    "### Cleaning CRM_ATPT_CPTD_CD "
   ]
  },
  {
   "cell_type": "markdown",
   "id": "2693fed2-7b1e-4e34-8f3a-35a99ae08f46",
   "metadata": {},
   "source": [
    "I think we should just drop crimes that were neither completed nor attempted, it is only .0018% of actual dataset"
   ]
  },
  {
   "cell_type": "code",
   "execution_count": 306,
   "id": "696f7749-e42d-4eda-b658-db9d15f30dec",
   "metadata": {},
   "outputs": [],
   "source": [
    "nypd_data.dropna(subset=['CRM_ATPT_CPTD_CD'], inplace=True)\n",
    "rows_to_drop = nypd_data[nypd_data['CRM_ATPT_CPTD_CD'] == STR_NULL].index\n",
    "\n",
    "nypd_data.drop(rows_to_drop, inplace=True)"
   ]
  },
  {
   "cell_type": "markdown",
   "id": "1be2ddd2-0233-4036-b11c-af08c46dbe9b",
   "metadata": {},
   "source": [
    "### Cleaning BORO_NM\n",
    "i think we should just drop those row, it will take great effort to populate this column with data using x/y coordinates\n",
    "or latitude and longtude."
   ]
  },
  {
   "cell_type": "code",
   "execution_count": 307,
   "id": "27f6bbf2-dfcf-4b07-97cc-9fa89018e468",
   "metadata": {},
   "outputs": [],
   "source": [
    "rows_to_drop = nypd_data[nypd_data['BORO_NM'] == STR_NULL].index\n",
    "\n",
    "nypd_data.drop(rows_to_drop, inplace=True)"
   ]
  },
  {
   "cell_type": "markdown",
   "id": "0c0f2527-a61c-4980-bdf3-86eec497f853",
   "metadata": {},
   "source": [
    "### Cleaning `LOC_OF_OCCUR_DESC` \n",
    "I will populate this with `OUTSIDE` value if PARKS_NM is not null\n",
    "Otherwise with `INSIDE`"
   ]
  },
  {
   "cell_type": "code",
   "execution_count": 308,
   "id": "fe13eb4d-a0ca-4d93-add4-f1a5e79f8beb",
   "metadata": {},
   "outputs": [],
   "source": [
    "# First is outside\n",
    "mask_parks = nypd_data['PARKS_NM'] != STR_NULL\n",
    "mask_loc = nypd_data['LOC_OF_OCCUR_DESC'] == STR_NULL\n",
    "final_mask = mask_parks & mask_loc\n",
    "nypd_data.loc[final_mask, 'LOC_OF_OCCUR_DESC'] = 'OUTSIDE'"
   ]
  },
  {
   "cell_type": "code",
   "execution_count": 309,
   "id": "7cffafb0-ee12-4144-8ebf-01e423b8a765",
   "metadata": {},
   "outputs": [],
   "source": [
    "# Everything else with INSIDE\n",
    "mask = nypd_data['LOC_OF_OCCUR_DESC'] == STR_NULL\n",
    "mask_nan = nypd_data['LOC_OF_OCCUR_DESC'].isna()\n",
    "nypd_data.loc[mask, 'LOC_OF_OCCUR_DESC'] = 'INSIDE' \n",
    "nypd_data.loc[mask_nan, 'LOC_OF_OCCUR_DESC'] = 'INSIDE' "
   ]
  },
  {
   "cell_type": "markdown",
   "id": "0c062c25-ad2f-4ce3-ac89-5939f7433795",
   "metadata": {},
   "source": [
    "### Cleaning `PREM_TYP_DESC`\n",
    "I would just populate all 39k null values with the most frequent label"
   ]
  },
  {
   "cell_type": "code",
   "execution_count": 310,
   "id": "7a280a2f-0984-403d-9195-86566c0baad4",
   "metadata": {},
   "outputs": [],
   "source": [
    "most_frequent = nypd_data['PREM_TYP_DESC'].value_counts(dropna=False).idxmax()\n",
    "mask = nypd_data['PREM_TYP_DESC'] == STR_NULL\n",
    "nypd_data.loc[mask, 'PREM_TYP_DESC'] = most_frequent"
   ]
  },
  {
   "cell_type": "markdown",
   "id": "a1f9fa30-acff-4d27-bb2b-34cf49fa0e76",
   "metadata": {},
   "source": [
    "### Cleaning `PARKS_NM`"
   ]
  },
  {
   "cell_type": "code",
   "execution_count": 311,
   "id": "06a8d616-5772-4101-81f6-3a00700df4f7",
   "metadata": {},
   "outputs": [],
   "source": [
    "# I will just replace with unknown that could mean either we really dont know the name or accident occured inside \n",
    "mask = nypd_data['PARKS_NM'] == STR_NULL\n",
    "nypd_data.loc[mask, 'PARKS_NM'] = UNKNOWN"
   ]
  },
  {
   "cell_type": "markdown",
   "id": "10cc1ebe-67e4-4c6a-9ac7-071d472b1d91",
   "metadata": {},
   "source": [
    "### Cleaning `HADEVELOPT`"
   ]
  },
  {
   "cell_type": "code",
   "execution_count": 312,
   "id": "4c19c32b-4eff-4816-a5dd-4029bcc86479",
   "metadata": {},
   "outputs": [],
   "source": [
    "mask = nypd_data['HADEVELOPT'] == STR_NULL\n",
    "nypd_data.loc[mask, 'HADEVELOPT'] = UNKNOWN"
   ]
  },
  {
   "cell_type": "markdown",
   "id": "46986c40-6a06-4338-9477-d0bd53d7bd3d",
   "metadata": {},
   "source": [
    "### Cleaning `HOUSING_PSA`"
   ]
  },
  {
   "cell_type": "code",
   "execution_count": 313,
   "id": "1b4a4b3a-c157-43ed-b87a-731a8e6a2e9e",
   "metadata": {},
   "outputs": [],
   "source": [
    "mask = nypd_data['HOUSING_PSA'] == STR_NULL\n",
    "nypd_data.loc[mask, 'HOUSING_PSA'] = UNKNOWN"
   ]
  },
  {
   "cell_type": "markdown",
   "id": "38bdc83b-0b15-4aa3-88f6-5cb563266de0",
   "metadata": {},
   "source": [
    "### Cleaning `SUSP_AGE_GROUP`"
   ]
  },
  {
   "cell_type": "code",
   "execution_count": 314,
   "id": "0909e220-55bd-41a2-9817-1e66adfb6cf2",
   "metadata": {},
   "outputs": [
    {
     "data": {
      "text/plain": [
       "array(['UNKNOWN', '25-44', '18-24', '45-64', '<18', '65+'], dtype=object)"
      ]
     },
     "execution_count": 314,
     "metadata": {},
     "output_type": "execute_result"
    }
   ],
   "source": [
    "all_age_groups = nypd_data['SUSP_AGE_GROUP'].unique()\n",
    "age_groups_to_change = [item for item in all_age_groups if item not in VALID_AGE_GROUPS]\n",
    "nypd_data.loc[nypd_data['SUSP_AGE_GROUP'].isin(age_groups_to_change), 'SUSP_AGE_GROUP'] = UNKNOWN\n",
    "nypd_data['SUSP_AGE_GROUP'].unique()"
   ]
  },
  {
   "cell_type": "markdown",
   "id": "5522d5ea-6662-4838-b72a-2ebefe699ccd",
   "metadata": {},
   "source": [
    "### Cleaning `SUSP_RACE`"
   ]
  },
  {
   "cell_type": "code",
   "execution_count": 315,
   "id": "2a09208e-8337-4043-b5ee-428e80f04dbb",
   "metadata": {},
   "outputs": [],
   "source": [
    "mask = nypd_data['SUSP_RACE'] == STR_NULL\n",
    "nypd_data.loc[mask, 'SUSP_RACE'] = UNKNOWN"
   ]
  },
  {
   "cell_type": "markdown",
   "id": "f8ec46f5-f84c-4974-98f1-2addffa86364",
   "metadata": {},
   "source": [
    "### Cleaning `SUSP_SEX`"
   ]
  },
  {
   "cell_type": "code",
   "execution_count": 316,
   "id": "96b1ac64-8464-43da-8347-31457e1fd24f",
   "metadata": {},
   "outputs": [],
   "source": [
    "mask = nypd_data['SUSP_SEX'] == STR_NULL\n",
    "nypd_data.loc[mask, 'SUSP_SEX'] = 'U'"
   ]
  },
  {
   "cell_type": "markdown",
   "id": "75dd05b5-272c-4073-a4a5-0fcbb7549ad1",
   "metadata": {},
   "source": [
    "### Cleaning PATROL_BORO"
   ]
  },
  {
   "cell_type": "markdown",
   "id": "fdcb0de7-3c51-46bc-b429-2d66e5ebb5c2",
   "metadata": {},
   "source": [
    "maybe we should add some randomness so that it is not alway south/north but randomly changes "
   ]
  },
  {
   "cell_type": "code",
   "execution_count": 317,
   "id": "e2640493-958d-459a-968b-68d644b3bf20",
   "metadata": {},
   "outputs": [
    {
     "data": {
      "text/plain": [
       "array(['PATROL BORO MAN SOUTH', 'PATROL BORO BKLYN NORTH',\n",
       "       'PATROL BORO BRONX', 'PATROL BORO BKLYN SOUTH',\n",
       "       'PATROL BORO MAN NORTH', 'PATROL BORO QUEENS SOUTH',\n",
       "       'PATROL BORO QUEENS NORTH', 'PATROL BORO STATEN ISLAND'],\n",
       "      dtype=object)"
      ]
     },
     "execution_count": 317,
     "metadata": {},
     "output_type": "execute_result"
    }
   ],
   "source": [
    "map_boro_to_patrol_boro = {\n",
    "    'MANHATTAN': 'PATROL BORO MAN SOUTH',\n",
    "    'BROOKLYN': 'PATROL BORO BKLYN NORTH',\n",
    "    'BRONX': 'PATROL BORO BRONX',\n",
    "    'QUEENS': 'PATROL BORO QUEENS NORTH',\n",
    "    'STATEN ISLAND' : 'PATROL BORO STATEN ISLAND'\n",
    "}\n",
    "mask = nypd_data['PATROL_BORO'] == STR_NULL\n",
    "nypd_data.loc[mask, 'PATROL_BORO'] = nypd_data[mask].apply(\n",
    "    lambda row: map_boro_to_patrol_boro.get(row['BORO_NM'], row['PATROL_BORO']),\n",
    "    axis=1\n",
    ")\n",
    "nypd_data['PATROL_BORO'].unique()"
   ]
  },
  {
   "cell_type": "markdown",
   "id": "fad627d7-b15a-4cd6-9ef5-3833b390fc37",
   "metadata": {},
   "source": [
    "### Cleaning `TRANSIT_DISTRICT`\n",
    "In simple terms it refers to transit areas such as subways and other transportation\n",
    "We will replace it with 0, meaning crime didn`t occur in transit district"
   ]
  },
  {
   "cell_type": "code",
   "execution_count": 318,
   "id": "127ef6b1-a04e-471a-b8b1-c49f81ad6d8a",
   "metadata": {},
   "outputs": [],
   "source": [
    "mask = nypd_data['TRANSIT_DISTRICT'].isna()\n",
    "nypd_data.loc[mask, 'TRANSIT_DISTRICT'] = 0"
   ]
  },
  {
   "cell_type": "markdown",
   "id": "57621b82-d1ef-4c47-a9a2-3d6788a93855",
   "metadata": {},
   "source": [
    "### Cleaning `STATION_NAME`\n",
    "I will replace it with Unknown, i dont really believe we will need this feature anyway"
   ]
  },
  {
   "cell_type": "code",
   "execution_count": 319,
   "id": "67fe08cb-1c6c-4113-90ff-6ab069167251",
   "metadata": {},
   "outputs": [],
   "source": [
    "mask = nypd_data['STATION_NAME'] == STR_NULL\n",
    "nypd_data.loc[mask, 'STATION_NAME'] = UNKNOWN"
   ]
  },
  {
   "cell_type": "markdown",
   "id": "9e692e55-cc83-4369-846a-42d2b089764d",
   "metadata": {},
   "source": [
    "### Cleaning `VIC_AGE_GROUP`"
   ]
  },
  {
   "cell_type": "code",
   "execution_count": 320,
   "id": "390d669f-9425-4840-9086-be2326d294cc",
   "metadata": {},
   "outputs": [
    {
     "data": {
      "text/plain": [
       "array(['UNKNOWN', '45-64', '18-24', '65+', '25-44', '<18'], dtype=object)"
      ]
     },
     "execution_count": 320,
     "metadata": {},
     "output_type": "execute_result"
    }
   ],
   "source": [
    "all_age_groups = nypd_data['VIC_AGE_GROUP'].unique()\n",
    "age_groups_to_change = [item for item in all_age_groups if item not in VALID_AGE_GROUPS]\n",
    "nypd_data.loc[nypd_data['VIC_AGE_GROUP'].isin(age_groups_to_change), 'VIC_AGE_GROUP'] = UNKNOWN\n",
    "nypd_data['VIC_AGE_GROUP'].unique()"
   ]
  },
  {
   "cell_type": "markdown",
   "id": "3a47b913-50eb-4206-b730-5fd90a0893e8",
   "metadata": {},
   "source": [
    "### Cleaning `VIC_RACE`"
   ]
  },
  {
   "cell_type": "code",
   "execution_count": 321,
   "id": "b1e63f05-d7d4-4498-8ca3-af38e70571d5",
   "metadata": {},
   "outputs": [],
   "source": [
    "mask = nypd_data['VIC_RACE'] == STR_NULL\n",
    "nypd_data.loc[mask, 'VIC_RACE'] = UNKNOWN"
   ]
  },
  {
   "cell_type": "markdown",
   "id": "fc1ff9b6-449e-43c6-9cba-7efa15a1c5a9",
   "metadata": {},
   "source": [
    "### Cleaning `VIC_SEX`"
   ]
  },
  {
   "cell_type": "code",
   "execution_count": 322,
   "id": "1f445537-91cb-483c-b429-5866abf34d66",
   "metadata": {},
   "outputs": [],
   "source": [
    "mask = nypd_data['VIC_SEX'] == STR_NULL\n",
    "nypd_data.loc[mask, 'VIC_SEX'] = 'U'"
   ]
  },
  {
   "cell_type": "markdown",
   "id": "43c07191-ea20-4550-b4fb-f52431f317e2",
   "metadata": {},
   "source": [
    "Split dataset into some chunks, first is where every value exists, second is some null values but we can replace them by other means\n",
    "and other is when we have null but no idea how to fill it"
   ]
  },
  {
   "cell_type": "code",
   "execution_count": 326,
   "id": "a4452aa9-9175-4226-b3ec-679e6feac7ed",
   "metadata": {},
   "outputs": [],
   "source": [
    "nypd_data_nonnull_time = nypd_data[(nypd_data['CMPLNT_TO_DT'].notna()) & (nypd_data['CMPLNT_TO_TM'] != STR_NULL)]\n",
    "\n",
    "nypd_data_null_time = nypd_data[nypd_data['CMPLNT_TO_DT'].isna() | (nypd_data['CMPLNT_TO_TM'] == STR_NULL)]\n",
    "nypd_data_null_time = nypd_data_nonnull_time.drop_duplicates()"
   ]
  },
  {
   "cell_type": "markdown",
   "id": "545f0a06-5dbd-4c6c-8cbf-322ea1cab7b7",
   "metadata": {},
   "source": [
    "Checking for null values:"
   ]
  },
  {
   "cell_type": "code",
   "execution_count": 327,
   "id": "6bfecbe0-b209-47bd-aba8-be64bb63c57c",
   "metadata": {},
   "outputs": [
    {
     "name": "stdout",
     "output_type": "stream",
     "text": [
      "Column 'CMPLNT_NUM' has 0 null values.\n",
      "Column 'CMPLNT_FR_DT' has 0 null values.\n",
      "Column 'CMPLNT_FR_TM' has 0 null values.\n",
      "Column 'CMPLNT_TO_DT' has 0 null values.\n",
      "Column 'CMPLNT_TO_TM' has 0 null values.\n",
      "Column 'ADDR_PCT_CD' has 0 null values.\n",
      "Column 'RPT_DT' has 0 null values.\n",
      "Column 'KY_CD' has 0 null values.\n",
      "Column 'OFNS_DESC' has 0 null values.\n",
      "Column 'PD_CD' has 0 null values.\n",
      "Column 'PD_DESC' has 0 null values.\n",
      "Column 'CRM_ATPT_CPTD_CD' has 0 null values.\n",
      "Column 'LAW_CAT_CD' has 0 null values.\n",
      "Column 'BORO_NM' has 0 null values.\n",
      "Column 'LOC_OF_OCCUR_DESC' has 0 null values.\n",
      "Column 'PREM_TYP_DESC' has 0 null values.\n",
      "Column 'JURIS_DESC' has 0 null values.\n",
      "Column 'JURISDICTION_CODE' has 0 null values.\n",
      "Column 'PARKS_NM' has 0 null values.\n",
      "Column 'HADEVELOPT' has 0 null values.\n",
      "Column 'HOUSING_PSA' has 0 null values.\n",
      "Column 'X_COORD_CD' has 0 null values.\n",
      "Column 'Y_COORD_CD' has 0 null values.\n",
      "Column 'SUSP_AGE_GROUP' has 0 null values.\n",
      "Column 'SUSP_RACE' has 0 null values.\n",
      "Column 'SUSP_SEX' has 0 null values.\n",
      "Column 'TRANSIT_DISTRICT' has 0 null values.\n",
      "Column 'Latitude' has 0 null values.\n",
      "Column 'Longitude' has 0 null values.\n",
      "Column 'Lat_Lon' has 0 null values.\n",
      "Column 'PATROL_BORO' has 0 null values.\n",
      "Column 'STATION_NAME' has 0 null values.\n",
      "Column 'VIC_AGE_GROUP' has 0 null values.\n",
      "Column 'VIC_RACE' has 0 null values.\n",
      "Column 'VIC_SEX' has 0 null values.\n"
     ]
    }
   ],
   "source": [
    "for column in nypd_data_nonnull_time.columns:\n",
    "    null_count = nypd_data_nonnull_time[column].isnull().sum()\n",
    "    print(f\"Column '{column}' has {null_count} null values.\")"
   ]
  },
  {
   "cell_type": "code",
   "execution_count": 329,
   "id": "1367bcf7-9e50-4ef7-89d5-db82af7711b9",
   "metadata": {},
   "outputs": [
    {
     "name": "stdout",
     "output_type": "stream",
     "text": [
      "Column 'CMPLNT_NUM' has 0 null values.\n",
      "Column 'CMPLNT_FR_DT' has 0 null values.\n",
      "Column 'CMPLNT_FR_TM' has 0 null values.\n",
      "Column 'CMPLNT_TO_DT' has 0 null values.\n",
      "Column 'CMPLNT_TO_TM' has 0 null values.\n",
      "Column 'ADDR_PCT_CD' has 0 null values.\n",
      "Column 'RPT_DT' has 0 null values.\n",
      "Column 'KY_CD' has 0 null values.\n",
      "Column 'OFNS_DESC' has 0 null values.\n",
      "Column 'PD_CD' has 0 null values.\n",
      "Column 'PD_DESC' has 0 null values.\n",
      "Column 'CRM_ATPT_CPTD_CD' has 0 null values.\n",
      "Column 'LAW_CAT_CD' has 0 null values.\n",
      "Column 'BORO_NM' has 0 null values.\n",
      "Column 'LOC_OF_OCCUR_DESC' has 0 null values.\n",
      "Column 'PREM_TYP_DESC' has 0 null values.\n",
      "Column 'JURIS_DESC' has 0 null values.\n",
      "Column 'JURISDICTION_CODE' has 0 null values.\n",
      "Column 'PARKS_NM' has 0 null values.\n",
      "Column 'HADEVELOPT' has 0 null values.\n",
      "Column 'HOUSING_PSA' has 0 null values.\n",
      "Column 'X_COORD_CD' has 0 null values.\n",
      "Column 'Y_COORD_CD' has 0 null values.\n",
      "Column 'SUSP_AGE_GROUP' has 0 null values.\n",
      "Column 'SUSP_RACE' has 0 null values.\n",
      "Column 'SUSP_SEX' has 0 null values.\n",
      "Column 'TRANSIT_DISTRICT' has 0 null values.\n",
      "Column 'Latitude' has 0 null values.\n",
      "Column 'Longitude' has 0 null values.\n",
      "Column 'Lat_Lon' has 0 null values.\n",
      "Column 'PATROL_BORO' has 0 null values.\n",
      "Column 'STATION_NAME' has 0 null values.\n",
      "Column 'VIC_AGE_GROUP' has 0 null values.\n",
      "Column 'VIC_RACE' has 0 null values.\n",
      "Column 'VIC_SEX' has 0 null values.\n"
     ]
    }
   ],
   "source": [
    "for column in nypd_data_nonnull_time.columns:\n",
    "    null_count = len(nypd_data_nonnull_time[nypd_data_nonnull_time[column] == STR_NULL])\n",
    "    print(f\"Column '{column}' has {null_count} null values.\")"
   ]
  },
  {
   "cell_type": "code",
   "execution_count": null,
   "id": "116af08f-bc7d-47e1-a011-c5c3fad69d8f",
   "metadata": {},
   "outputs": [],
   "source": []
  }
 ],
 "metadata": {
  "kernelspec": {
   "display_name": "Python 3 (ipykernel)",
   "language": "python",
   "name": "python3"
  },
  "language_info": {
   "codemirror_mode": {
    "name": "ipython",
    "version": 3
   },
   "file_extension": ".py",
   "mimetype": "text/x-python",
   "name": "python",
   "nbconvert_exporter": "python",
   "pygments_lexer": "ipython3",
   "version": "3.10.13"
  }
 },
 "nbformat": 4,
 "nbformat_minor": 5
}
